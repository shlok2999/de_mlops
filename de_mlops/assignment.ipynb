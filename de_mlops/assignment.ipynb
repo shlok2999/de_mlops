{
 "cells": [
  {
   "cell_type": "code",
   "execution_count": 73,
   "id": "016734a4",
   "metadata": {},
   "outputs": [],
   "source": [
    "from azure.ai.ml import MLClient\n",
    "from azure.ai.ml.entities import Workspace\n",
    "import os\n",
    "from azure.identity import DefaultAzureCredential\n",
    "from azure.identity import AzureCliCredential\n",
    "from azure.mgmt.resource import ResourceManagementClient\n",
    "from azure.ai.ml.entities import AmlCompute\n",
    "from azure.ai.ml.entities import Environment\n",
    "from azure.ai.ml import load_component\n",
    "from azure.ai.ml import dsl, Input, Output\n",
    "# from azureml.core import Workspace\n",
    "# from azureml.core import Experiment"
   ]
  },
  {
   "cell_type": "code",
   "execution_count": 74,
   "id": "66f9a289",
   "metadata": {},
   "outputs": [],
   "source": [
    "custom_env = 'mlflow-env'\n",
    "dependencies_dir = './dependencies'\n",
    "cpu_cluster_name = 'cpu-cluster-00'\n",
    "workspace_name = 'de-mlops'\n",
    "subscription_id = \"Your Subscription ID\"\n",
    "resource_group = \"MLOPS\"\n",
    "credential = AzureCliCredential()"
   ]
  },
  {
   "cell_type": "markdown",
   "id": "33a0b020",
   "metadata": {},
   "source": [
    "# Creating Resource Group "
   ]
  },
  {
   "cell_type": "code",
   "execution_count": 17,
   "id": "ba00cd84",
   "metadata": {},
   "outputs": [],
   "source": [
    "resource_client = ResourceManagementClient(credential, subscription_id)"
   ]
  },
  {
   "cell_type": "code",
   "execution_count": 18,
   "id": "3188457f",
   "metadata": {},
   "outputs": [],
   "source": [
    "rg_result = resource_client.resource_groups.create_or_update(\n",
    "    resource_group,\n",
    "    {\n",
    "        \"location\": \"eastus\"\n",
    "    }\n",
    ")"
   ]
  },
  {
   "cell_type": "code",
   "execution_count": 19,
   "id": "8964eaa7",
   "metadata": {},
   "outputs": [
    {
     "name": "stdout",
     "output_type": "stream",
     "text": [
      "Updated resource group MLOPS with tags\n"
     ]
    }
   ],
   "source": [
    "print(f\"Updated resource group {rg_result.name} with tags\")"
   ]
  },
  {
   "cell_type": "markdown",
   "id": "deba9fd9",
   "metadata": {},
   "source": [
    "# Creating workspace"
   ]
  },
  {
   "cell_type": "code",
   "execution_count": 5,
   "id": "2addc634",
   "metadata": {},
   "outputs": [],
   "source": [
    "ml_client = MLClient(credential, subscription_id, resource_group)"
   ]
  },
  {
   "cell_type": "code",
   "execution_count": null,
   "id": "678777fb",
   "metadata": {},
   "outputs": [],
   "source": [
    "ws_basic = Workspace(\n",
    "    name=workspace_name,\n",
    "    location=\"eastus\",\n",
    "    display_name = workspace_name,\n",
    "    description=\"DE Assignment\",\n",
    "    hbi_workspace=False,\n",
    "#     tags=dict(purpose=\"demo\"),\n",
    ")\n",
    "\n",
    "ws_basic = ml_client.workspaces.begin_create(ws_basic).result()\n",
    "print(ws_basic)"
   ]
  },
  {
   "cell_type": "markdown",
   "id": "7e83219a",
   "metadata": {},
   "source": [
    "# Create Pipeline"
   ]
  },
  {
   "cell_type": "markdown",
   "id": "f2536f19",
   "metadata": {},
   "source": [
    "## Get Compute"
   ]
  },
  {
   "cell_type": "code",
   "execution_count": 79,
   "id": "5e172554",
   "metadata": {},
   "outputs": [],
   "source": [
    "ml_client = MLClient(\n",
    "    credential=credential,\n",
    "    subscription_id= subscription_id,\n",
    "    resource_group_name= resource_group,\n",
    "    workspace_name= workspace_name,\n",
    ")"
   ]
  },
  {
   "cell_type": "code",
   "execution_count": 4,
   "id": "0b518131",
   "metadata": {},
   "outputs": [
    {
     "name": "stdout",
     "output_type": "stream",
     "text": [
      "reused compute instance\n"
     ]
    }
   ],
   "source": [
    "try:\n",
    "    cpu_cluster = ml_client.compute.get(cpu_cluster_name) # checkin\n",
    "    print(\"reused compute instance\")\n",
    "except:\n",
    "    cpu_cluster = AmlCompute(\n",
    "        name=cpu_cluster_name,\n",
    "        type=\"amlcompute\",\n",
    "        size=\"STANDARD_DS3_v2\",\n",
    "        location=\"eastus\",\n",
    "        min_instances=0,\n",
    "        max_instances=2,\n",
    "        idle_time_before_scale_down=120,\n",
    "    )\n",
    "    cpu_cluster = ml_client.begin_create_or_update(cpu_cluster)\n",
    "    print(\"New compute generated\")"
   ]
  },
  {
   "cell_type": "markdown",
   "id": "a9e1bc64",
   "metadata": {},
   "source": [
    "## Creating environment"
   ]
  },
  {
   "cell_type": "code",
   "execution_count": 60,
   "id": "7487edbe",
   "metadata": {},
   "outputs": [
    {
     "name": "stdout",
     "output_type": "stream",
     "text": [
      "Environment with name mlflow-env is registered to workspace, the environment version is 0.1.7\n"
     ]
    }
   ],
   "source": [
    "pipeline_job_env = Environment(\n",
    "    name=custom_env,\n",
    "    description=\"Custom environment for Credit Card Defaults pipeline\",\n",
    "    conda_file=os.path.join(dependencies_dir, \"conda.yml\"),\n",
    "    image=\"mcr.microsoft.com/azureml/openmpi4.1.0-ubuntu20.04:latest\",\n",
    "    version=\"0.1.7\",\n",
    ")\n",
    "pipeline_job_env = ml_client.environments.create_or_update(pipeline_job_env)\n",
    "\n",
    "print(\n",
    "    f\"Environment with name {pipeline_job_env.name} is registered to workspace, the environment version is {pipeline_job_env.version}\"\n",
    ")"
   ]
  },
  {
   "cell_type": "markdown",
   "id": "c6413f88",
   "metadata": {},
   "source": [
    "## Getting Directory for training"
   ]
  },
  {
   "cell_type": "code",
   "execution_count": 61,
   "id": "8141aca8",
   "metadata": {},
   "outputs": [],
   "source": [
    "import os\n",
    "\n",
    "train_src_dir = \"./components/train\"\n",
    "os.makedirs(train_src_dir, exist_ok=True)"
   ]
  },
  {
   "cell_type": "code",
   "execution_count": 62,
   "id": "88f72767",
   "metadata": {},
   "outputs": [],
   "source": [
    "train_component = load_component(source=os.path.join(train_src_dir, \"train.yml\"))"
   ]
  },
  {
   "cell_type": "code",
   "execution_count": 63,
   "id": "25e01b56",
   "metadata": {},
   "outputs": [
    {
     "name": "stderr",
     "output_type": "stream",
     "text": [
      "\u001b[32mUploading train (1.28 MBs): 100%|##########| 1278182/1278182 [00:08<00:00, 156492.62it/s]\n",
      "\u001b[39m\n",
      "\n"
     ]
    },
    {
     "name": "stdout",
     "output_type": "stream",
     "text": [
      "Component train_diabetes_model with Version 2023-11-05-09-14-17-3079252 is registered\n"
     ]
    }
   ],
   "source": [
    "# Now we register the component to the workspace\n",
    "train_component = ml_client.create_or_update(train_component)\n",
    "\n",
    "# Create (register) the component in your workspace\n",
    "print(\n",
    "    f\"Component {train_component.name} with Version {train_component.version} is registered\"\n",
    ")"
   ]
  },
  {
   "cell_type": "code",
   "execution_count": 64,
   "id": "18fcf224",
   "metadata": {},
   "outputs": [],
   "source": [
    "# the dsl decorator tells the sdk that we are defining an Azure ML pipeline\n",
    "\n",
    "@dsl.pipeline(\n",
    "    compute=\"serverless\",\n",
    "    description=\"E2E data_perp-train pipeline\",\n",
    ")\n",
    "def diabetes_pipeline(\n",
    "    pipeline_job_data_input,\n",
    "    pipeline_job_learning_rate,\n",
    "    pipeline_job_registered_model_name,\n",
    "):\n",
    "\n",
    "    # using train_func like a python call with its own inputs\n",
    "    train_job = train_component(\n",
    "        training_data=pipeline_job_data_input,  # note: using outputs from previous step\n",
    "        reg_rate=pipeline_job_learning_rate,  # note: using a pipeline input as parameter\n",
    "        registered_model_name=pipeline_job_registered_model_name,\n",
    "    )\n",
    "\n",
    "    # a pipeline returns a dictionary of outputs\n",
    "    # keys will code for the pipeline output identifier\n",
    "    return {\n",
    "        \"pipeline_job_model\": train_job.outputs.model,\n",
    "    }"
   ]
  },
  {
   "cell_type": "code",
   "execution_count": 65,
   "id": "c2528807",
   "metadata": {},
   "outputs": [],
   "source": [
    "registered_model_name = \"diabetes_model\"\n",
    "uri_path = 'URI path to csv file'\n",
    "# Let's instantiate the pipeline with the parameters of our choice\n",
    "pipeline = diabetes_pipeline(\n",
    "    pipeline_job_data_input=Input(type=\"uri_file\", path=uri_path),\n",
    "    pipeline_job_learning_rate=0.1,\n",
    "    pipeline_job_registered_model_name=registered_model_name,\n",
    ")"
   ]
  },
  {
   "cell_type": "markdown",
   "id": "e887966d",
   "metadata": {},
   "source": [
    "## Running the Job"
   ]
  },
  {
   "cell_type": "code",
   "execution_count": 66,
   "id": "b5402ae6",
   "metadata": {},
   "outputs": [],
   "source": [
    "pipeline_job = ml_client.jobs.create_or_update(\n",
    "    pipeline,\n",
    "    # Project's name\n",
    "    experiment_name=\"e2e_registered_components\",\n",
    ")"
   ]
  },
  {
   "cell_type": "code",
   "execution_count": null,
   "id": "260f77a6",
   "metadata": {
    "scrolled": true
   },
   "outputs": [],
   "source": [
    "ml_client.jobs.stream(pipeline_job.name)"
   ]
  }
 ],
 "metadata": {
  "kernelspec": {
   "display_name": "Python 3 (ipykernel)",
   "language": "python",
   "name": "python3"
  },
  "language_info": {
   "codemirror_mode": {
    "name": "ipython",
    "version": 3
   },
   "file_extension": ".py",
   "mimetype": "text/x-python",
   "name": "python",
   "nbconvert_exporter": "python",
   "pygments_lexer": "ipython3",
   "version": "3.11.5"
  }
 },
 "nbformat": 4,
 "nbformat_minor": 5
}
